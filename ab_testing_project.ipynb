{
 "cells": [
  {
   "cell_type": "code",
   "execution_count": 1,
   "id": "301d0f0d-3c32-4cfe-98dd-ad658119056d",
   "metadata": {
    "tags": []
   },
   "outputs": [],
   "source": [
    "# Importing Libraries and Dependencies\n",
    "import numpy as np\n",
    "import pandas as pd\n",
    "import matplotlib.pyplot as plt\n",
    "import seaborn as sns\n",
    "\n",
    "from sklearn.preprocessing import MinMaxScaler, LabelEncoder"
   ]
  },
  {
   "cell_type": "markdown",
   "id": "75d2c2f1-856e-461c-99c9-85cc38fc1680",
   "metadata": {},
   "source": [
    "## Objectives of Project \n",
    "- To know which promotion is most successful\n",
    "- To know which promotion encourages users to spend the most\n",
    "- To know which promotion is most effective/efficent (as per successful_payment)\n",
    "\n",
    "### Other objectives\n",
    "- Best Regions?\n",
    "- Distribution of Devices\n",
    "- Demography of customers "
   ]
  },
  {
   "cell_type": "markdown",
   "id": "223adcc3-66dd-42bc-ba0b-1026c6054770",
   "metadata": {},
   "source": [
    "### Data Exploration"
   ]
  },
  {
   "cell_type": "code",
   "execution_count": 6,
   "id": "93c40035-d0af-4936-abbe-d72cf09fafa1",
   "metadata": {
    "tags": []
   },
   "outputs": [
    {
     "data": {
      "text/html": [
       "<div>\n",
       "<style scoped>\n",
       "    .dataframe tbody tr th:only-of-type {\n",
       "        vertical-align: middle;\n",
       "    }\n",
       "\n",
       "    .dataframe tbody tr th {\n",
       "        vertical-align: top;\n",
       "    }\n",
       "\n",
       "    .dataframe thead th {\n",
       "        text-align: right;\n",
       "    }\n",
       "</style>\n",
       "<table border=\"1\" class=\"dataframe\">\n",
       "  <thead>\n",
       "    <tr style=\"text-align: right;\">\n",
       "      <th></th>\n",
       "      <th>User_ID</th>\n",
       "      <th>Age</th>\n",
       "      <th>Gender</th>\n",
       "      <th>Region</th>\n",
       "      <th>Device</th>\n",
       "      <th>Payment_Method</th>\n",
       "      <th>Promotion</th>\n",
       "      <th>Successful_Payment</th>\n",
       "      <th>Transaction_Amount</th>\n",
       "    </tr>\n",
       "  </thead>\n",
       "  <tbody>\n",
       "    <tr>\n",
       "      <th>0</th>\n",
       "      <td>1</td>\n",
       "      <td>56.0</td>\n",
       "      <td>Male</td>\n",
       "      <td>West</td>\n",
       "      <td>Desktop</td>\n",
       "      <td>Bank Transfer</td>\n",
       "      <td>Discount</td>\n",
       "      <td>0</td>\n",
       "      <td>57.57</td>\n",
       "    </tr>\n",
       "    <tr>\n",
       "      <th>1</th>\n",
       "      <td>2</td>\n",
       "      <td>46.0</td>\n",
       "      <td>Female</td>\n",
       "      <td>West</td>\n",
       "      <td>Mobile</td>\n",
       "      <td>Bank Transfer</td>\n",
       "      <td>Cashback</td>\n",
       "      <td>0</td>\n",
       "      <td>51.64</td>\n",
       "    </tr>\n",
       "    <tr>\n",
       "      <th>2</th>\n",
       "      <td>3</td>\n",
       "      <td>32.0</td>\n",
       "      <td>Female</td>\n",
       "      <td>South</td>\n",
       "      <td>Desktop</td>\n",
       "      <td>Bank Transfer</td>\n",
       "      <td>No Promo</td>\n",
       "      <td>1</td>\n",
       "      <td>30.37</td>\n",
       "    </tr>\n",
       "    <tr>\n",
       "      <th>3</th>\n",
       "      <td>4</td>\n",
       "      <td>60.0</td>\n",
       "      <td>Male</td>\n",
       "      <td>North</td>\n",
       "      <td>Mobile</td>\n",
       "      <td>Credit Card</td>\n",
       "      <td>No Promo</td>\n",
       "      <td>0</td>\n",
       "      <td>98.45</td>\n",
       "    </tr>\n",
       "    <tr>\n",
       "      <th>4</th>\n",
       "      <td>5</td>\n",
       "      <td>25.0</td>\n",
       "      <td>Male</td>\n",
       "      <td>West</td>\n",
       "      <td>Mobile</td>\n",
       "      <td>Credit Card</td>\n",
       "      <td>Free Trial</td>\n",
       "      <td>1</td>\n",
       "      <td>77.26</td>\n",
       "    </tr>\n",
       "  </tbody>\n",
       "</table>\n",
       "</div>"
      ],
      "text/plain": [
       "   User_ID   Age  Gender Region   Device Payment_Method   Promotion  \\\n",
       "0        1  56.0    Male   West  Desktop  Bank Transfer    Discount   \n",
       "1        2  46.0  Female   West   Mobile  Bank Transfer    Cashback   \n",
       "2        3  32.0  Female  South  Desktop  Bank Transfer    No Promo   \n",
       "3        4  60.0    Male  North   Mobile    Credit Card    No Promo   \n",
       "4        5  25.0    Male   West   Mobile    Credit Card  Free Trial   \n",
       "\n",
       "   Successful_Payment  Transaction_Amount  \n",
       "0                   0               57.57  \n",
       "1                   0               51.64  \n",
       "2                   1               30.37  \n",
       "3                   0               98.45  \n",
       "4                   1               77.26  "
      ]
     },
     "execution_count": 6,
     "metadata": {},
     "output_type": "execute_result"
    }
   ],
   "source": [
    "# Read Dataset\n",
    "df = pd.read_csv(r'ab_test_payment_gateway.csv')\n",
    "df.head()"
   ]
  },
  {
   "cell_type": "code",
   "execution_count": 7,
   "id": "e3b42243-7a22-4006-ae05-f95f494b61f7",
   "metadata": {
    "tags": []
   },
   "outputs": [
    {
     "data": {
      "text/plain": [
       "Index(['User_ID', 'Age', 'Gender', 'Region', 'Device', 'Payment_Method',\n",
       "       'Promotion', 'Successful_Payment', 'Transaction_Amount'],\n",
       "      dtype='object')"
      ]
     },
     "execution_count": 7,
     "metadata": {},
     "output_type": "execute_result"
    }
   ],
   "source": [
    "# exploring columns \n",
    "df.columns"
   ]
  },
  {
   "cell_type": "code",
   "execution_count": 16,
   "id": "3d499372-b319-482f-933a-7d8048a42a78",
   "metadata": {
    "tags": []
   },
   "outputs": [],
   "source": [
    "# Feature Engineering\n",
    "# Creating an Age range column\n",
    "age_group = []\n",
    "for age in df['Age']:\n",
    "    if age <= 29:\n",
    "        age_group.append('Young Adult')\n",
    "    elif age <= 39:\n",
    "        age_group.append('Adult')\n",
    "    elif age <= 49:\n",
    "        age_group.append('Middle-Aged')\n",
    "    else:\n",
    "        age_group.append('Old Adult')\n",
    "df['age_group'] = pd.Series(age_group)\n",
    "# df['age_group'].head(1)"
   ]
  },
  {
   "cell_type": "code",
   "execution_count": 7,
   "id": "fb0ebe41-a832-43a7-8043-dc1e55fc2437",
   "metadata": {
    "tags": []
   },
   "outputs": [
    {
     "data": {
      "text/plain": [
       "(4000, 9)"
      ]
     },
     "execution_count": 7,
     "metadata": {},
     "output_type": "execute_result"
    }
   ],
   "source": [
    "# Number of inputs in dataset\n",
    "df.shape"
   ]
  },
  {
   "cell_type": "code",
   "execution_count": 18,
   "id": "ed26a3c6-cfd6-4f62-a542-91fb295068f3",
   "metadata": {
    "tags": []
   },
   "outputs": [
    {
     "data": {
      "text/html": [
       "<div>\n",
       "<style scoped>\n",
       "    .dataframe tbody tr th:only-of-type {\n",
       "        vertical-align: middle;\n",
       "    }\n",
       "\n",
       "    .dataframe tbody tr th {\n",
       "        vertical-align: top;\n",
       "    }\n",
       "\n",
       "    .dataframe thead th {\n",
       "        text-align: right;\n",
       "    }\n",
       "</style>\n",
       "<table border=\"1\" class=\"dataframe\">\n",
       "  <thead>\n",
       "    <tr style=\"text-align: right;\">\n",
       "      <th></th>\n",
       "      <th>User_ID</th>\n",
       "      <th>Age</th>\n",
       "      <th>Successful_Payment</th>\n",
       "      <th>Transaction_Amount</th>\n",
       "    </tr>\n",
       "  </thead>\n",
       "  <tbody>\n",
       "    <tr>\n",
       "      <th>count</th>\n",
       "      <td>4000.000000</td>\n",
       "      <td>3900.000000</td>\n",
       "      <td>4000.000000</td>\n",
       "      <td>4000.000000</td>\n",
       "    </tr>\n",
       "    <tr>\n",
       "      <th>mean</th>\n",
       "      <td>2000.500000</td>\n",
       "      <td>41.206410</td>\n",
       "      <td>0.605500</td>\n",
       "      <td>51.313754</td>\n",
       "    </tr>\n",
       "    <tr>\n",
       "      <th>std</th>\n",
       "      <td>1154.844867</td>\n",
       "      <td>13.520788</td>\n",
       "      <td>0.488804</td>\n",
       "      <td>39.043909</td>\n",
       "    </tr>\n",
       "    <tr>\n",
       "      <th>min</th>\n",
       "      <td>1.000000</td>\n",
       "      <td>18.000000</td>\n",
       "      <td>0.000000</td>\n",
       "      <td>-23.100000</td>\n",
       "    </tr>\n",
       "    <tr>\n",
       "      <th>25%</th>\n",
       "      <td>1000.750000</td>\n",
       "      <td>29.000000</td>\n",
       "      <td>0.000000</td>\n",
       "      <td>36.160000</td>\n",
       "    </tr>\n",
       "    <tr>\n",
       "      <th>50%</th>\n",
       "      <td>2000.500000</td>\n",
       "      <td>41.000000</td>\n",
       "      <td>1.000000</td>\n",
       "      <td>49.945000</td>\n",
       "    </tr>\n",
       "    <tr>\n",
       "      <th>75%</th>\n",
       "      <td>3000.250000</td>\n",
       "      <td>53.000000</td>\n",
       "      <td>1.000000</td>\n",
       "      <td>62.890000</td>\n",
       "    </tr>\n",
       "    <tr>\n",
       "      <th>max</th>\n",
       "      <td>4000.000000</td>\n",
       "      <td>64.000000</td>\n",
       "      <td>1.000000</td>\n",
       "      <td>942.780812</td>\n",
       "    </tr>\n",
       "  </tbody>\n",
       "</table>\n",
       "</div>"
      ],
      "text/plain": [
       "           User_ID          Age  Successful_Payment  Transaction_Amount\n",
       "count  4000.000000  3900.000000         4000.000000         4000.000000\n",
       "mean   2000.500000    41.206410            0.605500           51.313754\n",
       "std    1154.844867    13.520788            0.488804           39.043909\n",
       "min       1.000000    18.000000            0.000000          -23.100000\n",
       "25%    1000.750000    29.000000            0.000000           36.160000\n",
       "50%    2000.500000    41.000000            1.000000           49.945000\n",
       "75%    3000.250000    53.000000            1.000000           62.890000\n",
       "max    4000.000000    64.000000            1.000000          942.780812"
      ]
     },
     "execution_count": 18,
     "metadata": {},
     "output_type": "execute_result"
    }
   ],
   "source": [
    "# description of numerical features\n",
    "df.describe()"
   ]
  },
  {
   "cell_type": "code",
   "execution_count": 19,
   "id": "957c169e-7b6a-42ff-96f4-d865ab624740",
   "metadata": {
    "tags": []
   },
   "outputs": [
    {
     "data": {
      "text/html": [
       "<div>\n",
       "<style scoped>\n",
       "    .dataframe tbody tr th:only-of-type {\n",
       "        vertical-align: middle;\n",
       "    }\n",
       "\n",
       "    .dataframe tbody tr th {\n",
       "        vertical-align: top;\n",
       "    }\n",
       "\n",
       "    .dataframe thead th {\n",
       "        text-align: right;\n",
       "    }\n",
       "</style>\n",
       "<table border=\"1\" class=\"dataframe\">\n",
       "  <thead>\n",
       "    <tr style=\"text-align: right;\">\n",
       "      <th></th>\n",
       "      <th>Gender</th>\n",
       "      <th>Region</th>\n",
       "      <th>Device</th>\n",
       "      <th>Payment_Method</th>\n",
       "      <th>Promotion</th>\n",
       "      <th>age_group</th>\n",
       "    </tr>\n",
       "  </thead>\n",
       "  <tbody>\n",
       "    <tr>\n",
       "      <th>count</th>\n",
       "      <td>4000</td>\n",
       "      <td>4000</td>\n",
       "      <td>4000</td>\n",
       "      <td>4000</td>\n",
       "      <td>3920</td>\n",
       "      <td>4000</td>\n",
       "    </tr>\n",
       "    <tr>\n",
       "      <th>unique</th>\n",
       "      <td>3</td>\n",
       "      <td>4</td>\n",
       "      <td>3</td>\n",
       "      <td>4</td>\n",
       "      <td>4</td>\n",
       "      <td>4</td>\n",
       "    </tr>\n",
       "    <tr>\n",
       "      <th>top</th>\n",
       "      <td>Male</td>\n",
       "      <td>South</td>\n",
       "      <td>Desktop</td>\n",
       "      <td>Credit Card</td>\n",
       "      <td>Cashback</td>\n",
       "      <td>Old Adult</td>\n",
       "    </tr>\n",
       "    <tr>\n",
       "      <th>freq</th>\n",
       "      <td>1946</td>\n",
       "      <td>1053</td>\n",
       "      <td>1831</td>\n",
       "      <td>1538</td>\n",
       "      <td>1165</td>\n",
       "      <td>1379</td>\n",
       "    </tr>\n",
       "  </tbody>\n",
       "</table>\n",
       "</div>"
      ],
      "text/plain": [
       "       Gender Region   Device Payment_Method Promotion  age_group\n",
       "count    4000   4000     4000           4000      3920       4000\n",
       "unique      3      4        3              4         4          4\n",
       "top      Male  South  Desktop    Credit Card  Cashback  Old Adult\n",
       "freq     1946   1053     1831           1538      1165       1379"
      ]
     },
     "execution_count": 19,
     "metadata": {},
     "output_type": "execute_result"
    }
   ],
   "source": [
    "# Description of categorical features\n",
    "df.describe(exclude=('int','float'))"
   ]
  },
  {
   "cell_type": "code",
   "execution_count": 11,
   "id": "5296d41e-ea88-4ead-a6c5-0918c6d077fd",
   "metadata": {
    "tags": []
   },
   "outputs": [
    {
     "name": "stdout",
     "output_type": "stream",
     "text": [
      "<class 'pandas.core.frame.DataFrame'>\n",
      "RangeIndex: 4000 entries, 0 to 3999\n",
      "Data columns (total 9 columns):\n",
      " #   Column              Non-Null Count  Dtype  \n",
      "---  ------              --------------  -----  \n",
      " 0   User_ID             4000 non-null   int64  \n",
      " 1   Age                 3900 non-null   float64\n",
      " 2   Gender              4000 non-null   object \n",
      " 3   Region              4000 non-null   object \n",
      " 4   Device              4000 non-null   object \n",
      " 5   Payment_Method      4000 non-null   object \n",
      " 6   Promotion           3920 non-null   object \n",
      " 7   Successful_Payment  4000 non-null   int64  \n",
      " 8   Transaction_Amount  4000 non-null   float64\n",
      "dtypes: float64(2), int64(2), object(5)\n",
      "memory usage: 281.4+ KB\n"
     ]
    }
   ],
   "source": [
    "df.info()"
   ]
  },
  {
   "cell_type": "markdown",
   "id": "1b6f835c-a0b7-4a5a-b107-adeedeb9f61f",
   "metadata": {},
   "source": [
    "I would rather reformat the Age column from float into an int. <br>\n",
    "But we have to sort the missing entries in the column first"
   ]
  },
  {
   "cell_type": "code",
   "execution_count": 13,
   "id": "8d9544a7-4567-4ecd-b3e1-860c82261c2a",
   "metadata": {
    "tags": []
   },
   "outputs": [
    {
     "data": {
      "text/plain": [
       "0"
      ]
     },
     "execution_count": 13,
     "metadata": {},
     "output_type": "execute_result"
    }
   ],
   "source": [
    "# Checking for duplicate entries\n",
    "df.duplicated().sum()"
   ]
  },
  {
   "cell_type": "code",
   "execution_count": 14,
   "id": "63b977d8-6b0b-4e84-bd5a-0f312d89d142",
   "metadata": {
    "tags": []
   },
   "outputs": [
    {
     "data": {
      "text/plain": [
       "User_ID                 0\n",
       "Age                   100\n",
       "Gender                  0\n",
       "Region                  0\n",
       "Device                  0\n",
       "Payment_Method          0\n",
       "Promotion              80\n",
       "Successful_Payment      0\n",
       "Transaction_Amount      0\n",
       "dtype: int64"
      ]
     },
     "execution_count": 14,
     "metadata": {},
     "output_type": "execute_result"
    }
   ],
   "source": [
    "# Checking for missing entries\n",
    "df.isna().sum()"
   ]
  },
  {
   "cell_type": "markdown",
   "id": "e147a601-ff0d-4e2d-ae4f-d33de19f49fd",
   "metadata": {},
   "source": [
    "180 total missing values in Age(100) and Promotion(80) columns"
   ]
  },
  {
   "cell_type": "code",
   "execution_count": 26,
   "id": "700af1ec-c7d4-4746-96aa-09401f3dde50",
   "metadata": {
    "tags": []
   },
   "outputs": [],
   "source": [
    "# Dropping Null Values and Converting Age to Int dtype\n",
    "df = df.dropna()\n",
    "df['Age'] = df['Age'].astype(int)\n",
    "# print(f\"{df['Age'].info()} {df.isnull().sum()}\")"
   ]
  },
  {
   "cell_type": "code",
   "execution_count": 27,
   "id": "1995f78d-6742-42ad-9358-a7c07dce0eec",
   "metadata": {
    "tags": []
   },
   "outputs": [
    {
     "data": {
      "text/plain": [
       "Index(['User_ID', 'Age', 'Gender', 'Region', 'Device', 'Payment_Method',\n",
       "       'Promotion', 'Successful_Payment', 'Transaction_Amount', 'age_group'],\n",
       "      dtype='object')"
      ]
     },
     "execution_count": 27,
     "metadata": {},
     "output_type": "execute_result"
    }
   ],
   "source": [
    "df.columns"
   ]
  },
  {
   "cell_type": "markdown",
   "id": "a48b13eb-c69e-43c5-822c-96563731b88d",
   "metadata": {
    "tags": []
   },
   "source": [
    "### Exploratory Data Analysis"
   ]
  },
  {
   "cell_type": "markdown",
   "id": "23538a23-00d3-469c-ad51-cfc5fd1aadbd",
   "metadata": {
    "tags": []
   },
   "source": [
    "#### To know which promotion is most successful\n",
    "<!-- Define your success metric -->\n",
    "- rate of Successful Payments\n",
    "- avg transaction amount\n"
   ]
  },
  {
   "cell_type": "code",
   "execution_count": 39,
   "id": "ee863ca7-9587-47c2-b0c6-e57a0736e47c",
   "metadata": {
    "tags": []
   },
   "outputs": [
    {
     "data": {
      "image/png": "[encoded data removed]",
      "text/plain": [
       "<Figure size 1200x500 with 2 Axes>"
      ]
     },
     "metadata": {},
     "output_type": "display_data"
    }
   ],
   "source": [
    "# Rate of Successful Payments and AVG Transaction amount by Promotion\n",
    "fig, ax = plt.subplots(1,2, figsize=(12,5))\n",
    "sns.barplot(data=df,\n",
    "            x='Promotion',\n",
    "            y='Successful_Payment',\n",
    "            palette='dark',\n",
    "            ax=ax[0]);\n",
    "ax[0].set_title('Rate of Successful Payment by Promotion')\n",
    "sns.barplot(data=df,\n",
    "            x='Promotion',\n",
    "            y='Transaction_Amount',\n",
    "            palette='dark',\n",
    "            ax=ax[1])\n",
    "ax[1].set_title('Average Transaction Amount by Promotion');"
   ]
  },
  {
   "cell_type": "markdown",
   "id": "e9a577c5-818e-4436-8add-0d7f550bedcd",
   "metadata": {},
   "source": [
    "**Insights** <br>\n",
    "**Rate of Successful Payments**\n",
    "- ...\n",
    "- ...\n",
    "\n",
    "**Average Transaction Amount**\n",
    "- ...\n",
    "- ..."
   ]
  },
  {
   "cell_type": "markdown",
   "id": "3f46a8d6-dba5-4475-8f9f-c9cc1afb5d70",
   "metadata": {
    "tags": []
   },
   "source": [
    "#### To know which promotion encourages users to spend the most\n",
    "<!-- Metric -->\n",
    "- No of transactions per promotion\n",
    "- avg transaction amount?? "
   ]
  },
  {
   "cell_type": "code",
   "execution_count": 43,
   "id": "57198c4b-dd32-435c-a480-c511e1992efb",
   "metadata": {
    "tags": []
   },
   "outputs": [
    {
     "data": {
      "image/png": "[encoded data removed]",
      "text/plain": [
       "<Figure size 640x480 with 1 Axes>"
      ]
     },
     "metadata": {},
     "output_type": "display_data"
    }
   ],
   "source": [
    " # No of transactions per promotion\n",
    "# plt.figure(figsize=(10,8))\n",
    "sns.countplot(x=df['Promotion'])\n",
    "plt.title('Number of Customers Per Promotion');"
   ]
  },
  {
   "cell_type": "markdown",
   "id": "fc04a616-44ef-4d83-b96b-93bc704c682a",
   "metadata": {
    "tags": []
   },
   "source": [
    "**Insights**\n",
    "- ..."
   ]
  },
  {
   "cell_type": "markdown",
   "id": "f6dbd270-b21c-45ab-a93b-33737c81280c",
   "metadata": {
    "tags": []
   },
   "source": [
    "#### To know which promotion is most effective/efficient (as per successful_payment)\n",
    "- Percentage of failed/successful transactions"
   ]
  },
  {
   "cell_type": "code",
   "execution_count": 45,
   "id": "740c5593-70e4-41e8-a1fe-78d6d06f7353",
   "metadata": {
    "tags": []
   },
   "outputs": [
    {
     "data": {
      "text/plain": [
       "Index(['User_ID', 'Age', 'Gender', 'Region', 'Device', 'Payment_Method',\n",
       "       'Promotion', 'Successful_Payment', 'Transaction_Amount', 'age_group'],\n",
       "      dtype='object')"
      ]
     },
     "execution_count": 45,
     "metadata": {},
     "output_type": "execute_result"
    }
   ],
   "source": [
    "df.columns"
   ]
  },
  {
   "cell_type": "code",
   "execution_count": 97,
   "id": "0688ff57-4c7f-404d-9af6-6999b50f2a49",
   "metadata": {
    "tags": []
   },
   "outputs": [
    {
     "name": "stdout",
     "output_type": "stream",
     "text": [
      "Promotion\n",
      "Cashback      61.0\n",
      "Discount      62.0\n",
      "No Promo      60.0\n",
      "Free Trial    59.0\n",
      "Name: count, dtype: float64\n"
     ]
    }
   ],
   "source": [
    "# Percentage of failed/successful transactions\n",
    "promotions = df['Promotion'].value_counts()\n",
    "success_per_promtoion = df['Promotion'].loc[df['Successful_Payment']==1].value_counts()\n",
    "percentage = round((success_per_promtoion/promotions)*100)\n",
    "print(percentage)"
   ]
  },
  {
   "cell_type": "code",
   "execution_count": 93,
   "id": "386400e4-cfa9-4312-bdef-217029e5c9e7",
   "metadata": {
    "tags": []
   },
   "outputs": [],
   "source": []
  },
  {
   "cell_type": "code",
   "execution_count": 98,
   "id": "42856f9d-ef5d-4142-86d4-ee9f3342b866",
   "metadata": {
    "tags": []
   },
   "outputs": [
    {
     "data": {
      "image/png": "[encoded data removed]",
      "text/plain": [
       "<Figure size 640x480 with 1 Axes>"
      ]
     },
     "metadata": {},
     "output_type": "display_data"
    }
   ],
   "source": [
    "order = percentage.reset_index().sort_values('count', ascending=False)['Promotion']\n",
    "sns.barplot(data=percentage.reset_index(), \n",
    "            x='Promotion',\n",
    "            y='count',\n",
    "            order=order\n",
    "           )\n",
    "plt.title('Success Rate of Transactions');"
   ]
  },
  {
   "cell_type": "code",
   "execution_count": 51,
   "id": "127df9fd-e62d-4d2d-bbd1-6beaf8f9aba0",
   "metadata": {
    "tags": []
   },
   "outputs": [
    {
     "data": {
      "text/plain": [
       "Promotion\n",
       "Cashback      690\n",
       "Discount      670\n",
       "No Promo      490\n",
       "Free Trial    471\n",
       "Name: count, dtype: int64"
      ]
     },
     "execution_count": 51,
     "metadata": {},
     "output_type": "execute_result"
    }
   ],
   "source": [
    "df['Promotion'].loc[df['Successful_Payment']==1].value_counts()"
   ]
  },
  {
   "cell_type": "markdown",
   "id": "eb7beb6e-f68d-4574-bf2c-49e319b3450e",
   "metadata": {},
   "source": [
    "### Univariate Analysis"
   ]
  },
  {
   "cell_type": "code",
   "execution_count": null,
   "id": "e7217ed4-d830-469d-a3ec-4f3b384732a5",
   "metadata": {},
   "outputs": [],
   "source": []
  },
  {
   "cell_type": "code",
   "execution_count": null,
   "id": "9ae4c76c-255e-4274-a77c-525c80597747",
   "metadata": {},
   "outputs": [],
   "source": []
  },
  {
   "cell_type": "markdown",
   "id": "bdcdfcb9-5fbf-4ad5-8fb7-feaf3a756341",
   "metadata": {},
   "source": [
    "### Bivariate Analysis"
   ]
  },
  {
   "cell_type": "code",
   "execution_count": null,
   "id": "8a348752-e496-4912-a98e-f7e7be0868e3",
   "metadata": {},
   "outputs": [],
   "source": []
  }
 ],
 "metadata": {
  "kernelspec": {
   "display_name": "Python 3 (ipykernel)",
   "language": "python",
   "name": "python3"
  },
  "language_info": {
   "codemirror_mode": {
    "name": "ipython",
    "version": 3
   },
   "file_extension": ".py",
   "mimetype": "text/x-python",
   "name": "python",
   "nbconvert_exporter": "python",
   "pygments_lexer": "ipython3",
   "version": "3.11.5"
  }
 },
 "nbformat": 4,
 "nbformat_minor": 5
}

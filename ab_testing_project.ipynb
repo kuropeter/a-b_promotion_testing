{
 "cells": [
  {
   "cell_type": "code",
   "execution_count": 1,
   "id": "301d0f0d-3c32-4cfe-98dd-ad658119056d",
   "metadata": {
    "tags": []
   },
   "outputs": [],
   "source": [
    "# Importing Libraries and Dependencies\n",
    "import numpy as np\n",
    "import pandas as pd\n",
    "import matplotlib.pyplot as plt\n",
    "import seaborn as sns\n",
    "\n",
    "from sklearn.preprocessing import MinMaxScaler, LabelEncoder"
   ]
  },
  {
   "cell_type": "markdown",
   "id": "75d2c2f1-856e-461c-99c9-85cc38fc1680",
   "metadata": {},
   "source": [
    "## Objectives of Project \n",
    "- To know which promotion is most successful\n",
    "- To know which promotion encourages users to spend the most\n",
    "- To know which promotion is most effective/efficent (as per successful_payment)\n",
    "\n",
    "### Other objectives\n",
    "- Best Regions?\n",
    "- Distribution of Devices\n",
    "- Demography of customers "
   ]
  },
  {
   "cell_type": "markdown",
   "id": "223adcc3-66dd-42bc-ba0b-1026c6054770",
   "metadata": {},
   "source": [
    "### Data Exploration"
   ]
  },
  {
   "cell_type": "code",
   "execution_count": 2,
   "id": "93c40035-d0af-4936-abbe-d72cf09fafa1",
   "metadata": {
    "tags": []
   },
   "outputs": [
    {
     "data": {
      "text/html": [
       "<div>\n",
       "<style scoped>\n",
       "    .dataframe tbody tr th:only-of-type {\n",
       "        vertical-align: middle;\n",
       "    }\n",
       "\n",
       "    .dataframe tbody tr th {\n",
       "        vertical-align: top;\n",
       "    }\n",
       "\n",
       "    .dataframe thead th {\n",
       "        text-align: right;\n",
       "    }\n",
       "</style>\n",
       "<table border=\"1\" class=\"dataframe\">\n",
       "  <thead>\n",
       "    <tr style=\"text-align: right;\">\n",
       "      <th></th>\n",
       "      <th>User_ID</th>\n",
       "      <th>Age</th>\n",
       "      <th>Gender</th>\n",
       "      <th>Region</th>\n",
       "      <th>Device</th>\n",
       "      <th>Payment_Method</th>\n",
       "      <th>Promotion</th>\n",
       "      <th>Successful_Payment</th>\n",
       "      <th>Transaction_Amount</th>\n",
       "    </tr>\n",
       "  </thead>\n",
       "  <tbody>\n",
       "    <tr>\n",
       "      <th>0</th>\n",
       "      <td>1</td>\n",
       "      <td>56.0</td>\n",
       "      <td>Male</td>\n",
       "      <td>West</td>\n",
       "      <td>Desktop</td>\n",
       "      <td>Bank Transfer</td>\n",
       "      <td>Discount</td>\n",
       "      <td>0</td>\n",
       "      <td>57.57</td>\n",
       "    </tr>\n",
       "    <tr>\n",
       "      <th>1</th>\n",
       "      <td>2</td>\n",
       "      <td>46.0</td>\n",
       "      <td>Female</td>\n",
       "      <td>West</td>\n",
       "      <td>Mobile</td>\n",
       "      <td>Bank Transfer</td>\n",
       "      <td>Cashback</td>\n",
       "      <td>0</td>\n",
       "      <td>51.64</td>\n",
       "    </tr>\n",
       "    <tr>\n",
       "      <th>2</th>\n",
       "      <td>3</td>\n",
       "      <td>32.0</td>\n",
       "      <td>Female</td>\n",
       "      <td>South</td>\n",
       "      <td>Desktop</td>\n",
       "      <td>Bank Transfer</td>\n",
       "      <td>No Promo</td>\n",
       "      <td>1</td>\n",
       "      <td>30.37</td>\n",
       "    </tr>\n",
       "    <tr>\n",
       "      <th>3</th>\n",
       "      <td>4</td>\n",
       "      <td>60.0</td>\n",
       "      <td>Male</td>\n",
       "      <td>North</td>\n",
       "      <td>Mobile</td>\n",
       "      <td>Credit Card</td>\n",
       "      <td>No Promo</td>\n",
       "      <td>0</td>\n",
       "      <td>98.45</td>\n",
       "    </tr>\n",
       "    <tr>\n",
       "      <th>4</th>\n",
       "      <td>5</td>\n",
       "      <td>25.0</td>\n",
       "      <td>Male</td>\n",
       "      <td>West</td>\n",
       "      <td>Mobile</td>\n",
       "      <td>Credit Card</td>\n",
       "      <td>Free Trial</td>\n",
       "      <td>1</td>\n",
       "      <td>77.26</td>\n",
       "    </tr>\n",
       "  </tbody>\n",
       "</table>\n",
       "</div>"
      ],
      "text/plain": [
       "   User_ID   Age  Gender Region   Device Payment_Method   Promotion  \\\n",
       "0        1  56.0    Male   West  Desktop  Bank Transfer    Discount   \n",
       "1        2  46.0  Female   West   Mobile  Bank Transfer    Cashback   \n",
       "2        3  32.0  Female  South  Desktop  Bank Transfer    No Promo   \n",
       "3        4  60.0    Male  North   Mobile    Credit Card    No Promo   \n",
       "4        5  25.0    Male   West   Mobile    Credit Card  Free Trial   \n",
       "\n",
       "   Successful_Payment  Transaction_Amount  \n",
       "0                   0               57.57  \n",
       "1                   0               51.64  \n",
       "2                   1               30.37  \n",
       "3                   0               98.45  \n",
       "4                   1               77.26  "
      ]
     },
     "execution_count": 2,
     "metadata": {},
     "output_type": "execute_result"
    }
   ],
   "source": [
    "# Read Dataset\n",
    "df = pd.read_csv(r'ab_test_payment_gateway.csv')\n",
    "df.head()"
   ]
  },
  {
   "cell_type": "code",
   "execution_count": 3,
   "id": "e3b42243-7a22-4006-ae05-f95f494b61f7",
   "metadata": {
    "tags": []
   },
   "outputs": [
    {
     "data": {
      "text/plain": [
       "Index(['User_ID', 'Age', 'Gender', 'Region', 'Device', 'Payment_Method',\n",
       "       'Promotion', 'Successful_Payment', 'Transaction_Amount'],\n",
       "      dtype='object')"
      ]
     },
     "execution_count": 3,
     "metadata": {},
     "output_type": "execute_result"
    }
   ],
   "source": [
    "# exploring columns \n",
    "df.columns"
   ]
  },
  {
   "cell_type": "code",
   "execution_count": 4,
   "id": "3d499372-b319-482f-933a-7d8048a42a78",
   "metadata": {
    "tags": []
   },
   "outputs": [],
   "source": [
    "# Feature Engineering\n",
    "# Creating an Age range column\n",
    "age_group = []\n",
    "for age in df['Age']:\n",
    "    if age <= 29:\n",
    "        age_group.append('Young Adult')\n",
    "    elif age <= 39:\n",
    "        age_group.append('Adult')\n",
    "    elif age <= 49:\n",
    "        age_group.append('Middle-Aged')\n",
    "    else:\n",
    "        age_group.append('Old Adult')\n",
    "df['age_group'] = pd.Series(age_group)\n",
    "# df['age_group'].head(1)"
   ]
  },
  {
   "cell_type": "code",
   "execution_count": 5,
   "id": "fb0ebe41-a832-43a7-8043-dc1e55fc2437",
   "metadata": {
    "tags": []
   },
   "outputs": [
    {
     "data": {
      "text/plain": [
       "(4000, 10)"
      ]
     },
     "execution_count": 5,
     "metadata": {},
     "output_type": "execute_result"
    }
   ],
   "source": [
    "# Number of inputs in dataset\n",
    "df.shape"
   ]
  },
  {
   "cell_type": "code",
   "execution_count": 6,
   "id": "ed26a3c6-cfd6-4f62-a542-91fb295068f3",
   "metadata": {
    "tags": []
   },
   "outputs": [
    {
     "data": {
      "text/html": [
       "<div>\n",
       "<style scoped>\n",
       "    .dataframe tbody tr th:only-of-type {\n",
       "        vertical-align: middle;\n",
       "    }\n",
       "\n",
       "    .dataframe tbody tr th {\n",
       "        vertical-align: top;\n",
       "    }\n",
       "\n",
       "    .dataframe thead th {\n",
       "        text-align: right;\n",
       "    }\n",
       "</style>\n",
       "<table border=\"1\" class=\"dataframe\">\n",
       "  <thead>\n",
       "    <tr style=\"text-align: right;\">\n",
       "      <th></th>\n",
       "      <th>User_ID</th>\n",
       "      <th>Age</th>\n",
       "      <th>Successful_Payment</th>\n",
       "      <th>Transaction_Amount</th>\n",
       "    </tr>\n",
       "  </thead>\n",
       "  <tbody>\n",
       "    <tr>\n",
       "      <th>count</th>\n",
       "      <td>4000.000000</td>\n",
       "      <td>3900.000000</td>\n",
       "      <td>4000.000000</td>\n",
       "      <td>4000.000000</td>\n",
       "    </tr>\n",
       "    <tr>\n",
       "      <th>mean</th>\n",
       "      <td>2000.500000</td>\n",
       "      <td>41.206410</td>\n",
       "      <td>0.605500</td>\n",
       "      <td>51.313754</td>\n",
       "    </tr>\n",
       "    <tr>\n",
       "      <th>std</th>\n",
       "      <td>1154.844867</td>\n",
       "      <td>13.520788</td>\n",
       "      <td>0.488804</td>\n",
       "      <td>39.043909</td>\n",
       "    </tr>\n",
       "    <tr>\n",
       "      <th>min</th>\n",
       "      <td>1.000000</td>\n",
       "      <td>18.000000</td>\n",
       "      <td>0.000000</td>\n",
       "      <td>-23.100000</td>\n",
       "    </tr>\n",
       "    <tr>\n",
       "      <th>25%</th>\n",
       "      <td>1000.750000</td>\n",
       "      <td>29.000000</td>\n",
       "      <td>0.000000</td>\n",
       "      <td>36.160000</td>\n",
       "    </tr>\n",
       "    <tr>\n",
       "      <th>50%</th>\n",
       "      <td>2000.500000</td>\n",
       "      <td>41.000000</td>\n",
       "      <td>1.000000</td>\n",
       "      <td>49.945000</td>\n",
       "    </tr>\n",
       "    <tr>\n",
       "      <th>75%</th>\n",
       "      <td>3000.250000</td>\n",
       "      <td>53.000000</td>\n",
       "      <td>1.000000</td>\n",
       "      <td>62.890000</td>\n",
       "    </tr>\n",
       "    <tr>\n",
       "      <th>max</th>\n",
       "      <td>4000.000000</td>\n",
       "      <td>64.000000</td>\n",
       "      <td>1.000000</td>\n",
       "      <td>942.780812</td>\n",
       "    </tr>\n",
       "  </tbody>\n",
       "</table>\n",
       "</div>"
      ],
      "text/plain": [
       "           User_ID          Age  Successful_Payment  Transaction_Amount\n",
       "count  4000.000000  3900.000000         4000.000000         4000.000000\n",
       "mean   2000.500000    41.206410            0.605500           51.313754\n",
       "std    1154.844867    13.520788            0.488804           39.043909\n",
       "min       1.000000    18.000000            0.000000          -23.100000\n",
       "25%    1000.750000    29.000000            0.000000           36.160000\n",
       "50%    2000.500000    41.000000            1.000000           49.945000\n",
       "75%    3000.250000    53.000000            1.000000           62.890000\n",
       "max    4000.000000    64.000000            1.000000          942.780812"
      ]
     },
     "execution_count": 6,
     "metadata": {},
     "output_type": "execute_result"
    }
   ],
   "source": [
    "# description of numerical features\n",
    "df.describe()"
   ]
  },
  {
   "cell_type": "code",
   "execution_count": 7,
   "id": "957c169e-7b6a-42ff-96f4-d865ab624740",
   "metadata": {
    "tags": []
   },
   "outputs": [
    {
     "data": {
      "text/html": [
       "<div>\n",
       "<style scoped>\n",
       "    .dataframe tbody tr th:only-of-type {\n",
       "        vertical-align: middle;\n",
       "    }\n",
       "\n",
       "    .dataframe tbody tr th {\n",
       "        vertical-align: top;\n",
       "    }\n",
       "\n",
       "    .dataframe thead th {\n",
       "        text-align: right;\n",
       "    }\n",
       "</style>\n",
       "<table border=\"1\" class=\"dataframe\">\n",
       "  <thead>\n",
       "    <tr style=\"text-align: right;\">\n",
       "      <th></th>\n",
       "      <th>Gender</th>\n",
       "      <th>Region</th>\n",
       "      <th>Device</th>\n",
       "      <th>Payment_Method</th>\n",
       "      <th>Promotion</th>\n",
       "      <th>age_group</th>\n",
       "    </tr>\n",
       "  </thead>\n",
       "  <tbody>\n",
       "    <tr>\n",
       "      <th>count</th>\n",
       "      <td>4000</td>\n",
       "      <td>4000</td>\n",
       "      <td>4000</td>\n",
       "      <td>4000</td>\n",
       "      <td>3920</td>\n",
       "      <td>4000</td>\n",
       "    </tr>\n",
       "    <tr>\n",
       "      <th>unique</th>\n",
       "      <td>3</td>\n",
       "      <td>4</td>\n",
       "      <td>3</td>\n",
       "      <td>4</td>\n",
       "      <td>4</td>\n",
       "      <td>4</td>\n",
       "    </tr>\n",
       "    <tr>\n",
       "      <th>top</th>\n",
       "      <td>Male</td>\n",
       "      <td>South</td>\n",
       "      <td>Desktop</td>\n",
       "      <td>Credit Card</td>\n",
       "      <td>Cashback</td>\n",
       "      <td>Old Adult</td>\n",
       "    </tr>\n",
       "    <tr>\n",
       "      <th>freq</th>\n",
       "      <td>1946</td>\n",
       "      <td>1053</td>\n",
       "      <td>1831</td>\n",
       "      <td>1538</td>\n",
       "      <td>1165</td>\n",
       "      <td>1379</td>\n",
       "    </tr>\n",
       "  </tbody>\n",
       "</table>\n",
       "</div>"
      ],
      "text/plain": [
       "       Gender Region   Device Payment_Method Promotion  age_group\n",
       "count    4000   4000     4000           4000      3920       4000\n",
       "unique      3      4        3              4         4          4\n",
       "top      Male  South  Desktop    Credit Card  Cashback  Old Adult\n",
       "freq     1946   1053     1831           1538      1165       1379"
      ]
     },
     "execution_count": 7,
     "metadata": {},
     "output_type": "execute_result"
    }
   ],
   "source": [
    "# Description of categorical features\n",
    "df.describe(exclude=('int','float'))"
   ]
  },
  {
   "cell_type": "code",
   "execution_count": 8,
   "id": "5296d41e-ea88-4ead-a6c5-0918c6d077fd",
   "metadata": {
    "tags": []
   },
   "outputs": [
    {
     "name": "stdout",
     "output_type": "stream",
     "text": [
      "<class 'pandas.core.frame.DataFrame'>\n",
      "RangeIndex: 4000 entries, 0 to 3999\n",
      "Data columns (total 10 columns):\n",
      " #   Column              Non-Null Count  Dtype  \n",
      "---  ------              --------------  -----  \n",
      " 0   User_ID             4000 non-null   int64  \n",
      " 1   Age                 3900 non-null   float64\n",
      " 2   Gender              4000 non-null   object \n",
      " 3   Region              4000 non-null   object \n",
      " 4   Device              4000 non-null   object \n",
      " 5   Payment_Method      4000 non-null   object \n",
      " 6   Promotion           3920 non-null   object \n",
      " 7   Successful_Payment  4000 non-null   int64  \n",
      " 8   Transaction_Amount  4000 non-null   float64\n",
      " 9   age_group           4000 non-null   object \n",
      "dtypes: float64(2), int64(2), object(6)\n",
      "memory usage: 312.6+ KB\n"
     ]
    }
   ],
   "source": [
    "df.info()"
   ]
  },
  {
   "cell_type": "markdown",
   "id": "1b6f835c-a0b7-4a5a-b107-adeedeb9f61f",
   "metadata": {},
   "source": [
    "I would rather reformat the Age column from float into an int. <br>\n",
    "But we have to sort the missing entries in the column first"
   ]
  },
  {
   "cell_type": "code",
   "execution_count": 9,
   "id": "8d9544a7-4567-4ecd-b3e1-860c82261c2a",
   "metadata": {
    "tags": []
   },
   "outputs": [
    {
     "data": {
      "text/plain": [
       "0"
      ]
     },
     "execution_count": 9,
     "metadata": {},
     "output_type": "execute_result"
    }
   ],
   "source": [
    "# Checking for duplicate entries\n",
    "df.duplicated().sum()"
   ]
  },
  {
   "cell_type": "code",
   "execution_count": 10,
   "id": "63b977d8-6b0b-4e84-bd5a-0f312d89d142",
   "metadata": {
    "tags": []
   },
   "outputs": [
    {
     "data": {
      "text/plain": [
       "User_ID                 0\n",
       "Age                   100\n",
       "Gender                  0\n",
       "Region                  0\n",
       "Device                  0\n",
       "Payment_Method          0\n",
       "Promotion              80\n",
       "Successful_Payment      0\n",
       "Transaction_Amount      0\n",
       "age_group               0\n",
       "dtype: int64"
      ]
     },
     "execution_count": 10,
     "metadata": {},
     "output_type": "execute_result"
    }
   ],
   "source": [
    "# Checking for missing entries\n",
    "df.isna().sum()"
   ]
  },
  {
   "cell_type": "markdown",
   "id": "e147a601-ff0d-4e2d-ae4f-d33de19f49fd",
   "metadata": {},
   "source": [
    "180 total missing values in Age(100) and Promotion(80) columns"
   ]
  },
  {
   "cell_type": "code",
   "execution_count": 11,
   "id": "700af1ec-c7d4-4746-96aa-09401f3dde50",
   "metadata": {
    "tags": []
   },
   "outputs": [],
   "source": [
    "# Dropping Null Values and Converting Age to Int dtype\n",
    "df = df.dropna()\n",
    "df['Age'] = df['Age'].astype(int)\n",
    "# print(f\"{df['Age'].info()} {df.isnull().sum()}\")"
   ]
  },
  {
   "cell_type": "code",
   "execution_count": 12,
   "id": "1995f78d-6742-42ad-9358-a7c07dce0eec",
   "metadata": {
    "tags": []
   },
   "outputs": [
    {
     "data": {
      "text/plain": [
       "Index(['User_ID', 'Age', 'Gender', 'Region', 'Device', 'Payment_Method',\n",
       "       'Promotion', 'Successful_Payment', 'Transaction_Amount', 'age_group'],\n",
       "      dtype='object')"
      ]
     },
     "execution_count": 12,
     "metadata": {},
     "output_type": "execute_result"
    }
   ],
   "source": [
    "df.columns"
   ]
  },
  {
   "cell_type": "markdown",
   "id": "a48b13eb-c69e-43c5-822c-96563731b88d",
   "metadata": {
    "tags": []
   },
   "source": [
    "### Exploratory Data Analysis"
   ]
  },
  {
   "cell_type": "markdown",
   "id": "23538a23-00d3-469c-ad51-cfc5fd1aadbd",
   "metadata": {
    "tags": []
   },
   "source": [
    "#### To know which promotion is most successful\n",
    "<!-- Define your success metric -->\n",
    "- rate of Successful Payments\n",
    "- avg transaction amount\n"
   ]
  },
  {
   "cell_type": "code",
   "execution_count": 43,
   "id": "ee863ca7-9587-47c2-b0c6-e57a0736e47c",
   "metadata": {
    "tags": []
   },
   "outputs": [
    {
     "data": {
      "image/png": "[encoded data removed]",
      "text/plain": [
       "<Figure size 1200x500 with 2 Axes>"
      ]
     },
     "metadata": {},
     "output_type": "display_data"
    }
   ],
   "source": [
    "# Rate of Successful Payments and AVG Transaction amount by Promotion\n",
    "fig, ax = plt.subplots(1,2, figsize=(12,5))\n",
    "sns.barplot(data=df,\n",
    "            x='Promotion',\n",
    "            y='Successful_Payment',\n",
    "            palette='dark',\n",
    "            ax=ax[0]);\n",
    "ax[0].set_title('Rate of Successful Payment by Promotion')\n",
    "sns.barplot(data=df,\n",
    "            x='Promotion',\n",
    "            y='Transaction_Amount',\n",
    "            palette='dark',\n",
    "            ax=ax[1])\n",
    "ax[1].set_title('Average Transaction Amount by Promotion');"
   ]
  },
  {
   "cell_type": "markdown",
   "id": "e9a577c5-818e-4436-8add-0d7f550bedcd",
   "metadata": {},
   "source": [
    "**Insights** <br>\n",
    "**Rate of Successful Payments**\n",
    "- Discount promtion has the most successful rates with 61%\n",
    "- Free Trial is lowest at 59%\n",
    "- The difference between each promotion is not much thus negligible\n",
    "\n",
    "**Average Transaction Amount**\n",
    "- Discount has the highest average Transaction with approximately 54 spent per transaction\n",
    "- The lowest is No Promo with 50.3\n",
    "- The difference between the bottom 3 is just 0.4"
   ]
  },
  {
   "cell_type": "code",
   "execution_count": 56,
   "id": "40c222cb-4b19-4390-a359-944c19118357",
   "metadata": {
    "tags": []
   },
   "outputs": [
    {
     "data": {
      "text/plain": [
       "Promotion\n",
       "Cashback      0.610080\n",
       "Discount      0.617512\n",
       "Free Trial    0.594697\n",
       "No Promo      0.600490\n",
       "Name: Successful_Payment, dtype: float64"
      ]
     },
     "execution_count": 56,
     "metadata": {},
     "output_type": "execute_result"
    }
   ],
   "source": [
    "df.groupby('Promotion')['Successful_Payment'].mean()"
   ]
  },
  {
   "cell_type": "markdown",
   "id": "3f46a8d6-dba5-4475-8f9f-c9cc1afb5d70",
   "metadata": {
    "tags": []
   },
   "source": [
    "#### To know which promotion encourages users to spend the most\n",
    "<!-- Metric -->\n",
    "- No of transactions per promotion\n",
    "- avg transaction amount?? "
   ]
  },
  {
   "cell_type": "code",
   "execution_count": 14,
   "id": "57198c4b-dd32-435c-a480-c511e1992efb",
   "metadata": {
    "tags": []
   },
   "outputs": [
    {
     "data": {
      "image/png": "[encoded data removed]",
      "text/plain": [
       "<Figure size 640x480 with 1 Axes>"
      ]
     },
     "metadata": {},
     "output_type": "display_data"
    }
   ],
   "source": [
    " # No of transactions per promotion\n",
    "# plt.figure(figsize=(10,8))\n",
    "sns.countplot(x=df['Promotion'])\n",
    "plt.title('Number of Customers Per Promotion');"
   ]
  },
  {
   "cell_type": "markdown",
   "id": "fc04a616-44ef-4d83-b96b-93bc704c682a",
   "metadata": {
    "tags": []
   },
   "source": [
    "**Insights**\n",
    "- Cashback promotion has the most customers with **1131**\n",
    "- Closely followed by Discount at **1085**\n",
    "- Then a drop of to No Promo and Free Trial at **816** & **792** respectively"
   ]
  },
  {
   "cell_type": "code",
   "execution_count": 48,
   "id": "cbbd9a16-c411-45f1-87fb-e4ebdad01789",
   "metadata": {
    "tags": []
   },
   "outputs": [],
   "source": [
    "# df.groupby('Promotion')['Promotion'].count()"
   ]
  },
  {
   "cell_type": "markdown",
   "id": "f6dbd270-b21c-45ab-a93b-33737c81280c",
   "metadata": {
    "tags": []
   },
   "source": [
    "#### To know which promotion is most effective/efficient (as per successful_payment)\n",
    "- Percentage of failed/successful transactions"
   ]
  },
  {
   "cell_type": "code",
   "execution_count": 49,
   "id": "740c5593-70e4-41e8-a1fe-78d6d06f7353",
   "metadata": {
    "tags": []
   },
   "outputs": [],
   "source": [
    "# df.columns"
   ]
  },
  {
   "cell_type": "code",
   "execution_count": 57,
   "id": "42856f9d-ef5d-4142-86d4-ee9f3342b866",
   "metadata": {
    "tags": []
   },
   "outputs": [],
   "source": [
    "# order = percentage.reset_index().sort_values('count', ascending=False)['Promotion']\n",
    "# sns.barplot(data=percentage.reset_index(), \n",
    "#             x='Promotion',\n",
    "#             y='count',\n",
    "#             order=order\n",
    "#            )\n",
    "# plt.title('Success Rate of Transactions');"
   ]
  },
  {
   "cell_type": "code",
   "execution_count": 58,
   "id": "0688ff57-4c7f-404d-9af6-6999b50f2a49",
   "metadata": {
    "tags": []
   },
   "outputs": [],
   "source": [
    "# # Percentage of failed/successful transactions\n",
    "# promotions = df['Promotion'].value_counts()\n",
    "# success_per_promtoion = df['Promotion'].loc[df['Successful_Payment']==1].value_counts()\n",
    "# percentage = round((success_per_promtoion/promotions)*100)\n",
    "# print(percentage)"
   ]
  },
  {
   "cell_type": "code",
   "execution_count": 59,
   "id": "127df9fd-e62d-4d2d-bbd1-6beaf8f9aba0",
   "metadata": {
    "tags": []
   },
   "outputs": [],
   "source": [
    "# df['Promotion'].loc[df['Successful_Payment']==1].value_counts()"
   ]
  },
  {
   "cell_type": "markdown",
   "id": "eb7beb6e-f68d-4574-bf2c-49e319b3450e",
   "metadata": {},
   "source": [
    "#### Successful regions\n",
    "- avg transaction amount spent per region\n",
    "- rate of successful payment per regions\n",
    "- no of transactions per region"
   ]
  },
  {
   "cell_type": "code",
   "execution_count": 19,
   "id": "540f74e6-6286-4fa2-8174-b4363d5b0328",
   "metadata": {
    "tags": []
   },
   "outputs": [
    {
     "data": {
      "image/png": "[encoded data removed]",
      "text/plain": [
       "<Figure size 640x480 with 1 Axes>"
      ]
     },
     "metadata": {},
     "output_type": "display_data"
    }
   ],
   "source": [
    "# avg transaction amount spent per region \n",
    "# fig, ax = plt.subplots(1,2, figsize=(12,5))\n",
    "order = df.groupby('Region')['Successful_Payment'].mean().sort_values(ascending=False).index\n",
    "sns.barplot(data=df,\n",
    "            x='Region',\n",
    "            y='Successful_Payment',\n",
    "            palette='dark',\n",
    "            order=order\n",
    "           )\n",
    "plt.title('Rate of Successful Payment by Region');"
   ]
  },
  {
   "cell_type": "code",
   "execution_count": 20,
   "id": "9ae4c76c-255e-4274-a77c-525c80597747",
   "metadata": {},
   "outputs": [
    {
     "data": {
      "text/plain": [
       "''"
      ]
     },
     "execution_count": 20,
     "metadata": {},
     "output_type": "execute_result"
    },
    {
     "data": {
      "image/png": "[encoded data removed]",
      "text/plain": [
       "<Figure size 640x480 with 1 Axes>"
      ]
     },
     "metadata": {},
     "output_type": "display_data"
    }
   ],
   "source": [
    "# rate of successful payment per regions\n",
    "order = df.groupby('Region')['Transaction_Amount'].mean().sort_values(ascending=False).index\n",
    "sns.barplot(data=df,\n",
    "            x='Region',\n",
    "            y='Transaction_Amount',\n",
    "            palette='bright',\n",
    "            order=order\n",
    "           )\n",
    "plt.title('Average Transaction Amount by Region')\n",
    ";"
   ]
  },
  {
   "cell_type": "code",
   "execution_count": 21,
   "id": "f6d64589-d955-4ad2-acee-cf612f8b51c1",
   "metadata": {
    "tags": []
   },
   "outputs": [
    {
     "data": {
      "image/png": "[encoded data removed]",
      "text/plain": [
       "<Figure size 640x480 with 1 Axes>"
      ]
     },
     "metadata": {},
     "output_type": "display_data"
    }
   ],
   "source": [
    "sns.countplot(x=df['Region']);"
   ]
  },
  {
   "cell_type": "markdown",
   "id": "bdcdfcb9-5fbf-4ad5-8fb7-feaf3a756341",
   "metadata": {},
   "source": [
    "### Bivariate Analysis"
   ]
  },
  {
   "cell_type": "code",
   "execution_count": 22,
   "id": "8a348752-e496-4912-a98e-f7e7be0868e3",
   "metadata": {},
   "outputs": [],
   "source": [
    "# df.groupby('Region')['Transaction_Amount'].mean().sort_values(ascending=False)"
   ]
  },
  {
   "cell_type": "code",
   "execution_count": null,
   "id": "8940ac23-f24d-45b8-9613-31c21f90f96b",
   "metadata": {},
   "outputs": [],
   "source": []
  },
  {
   "cell_type": "code",
   "execution_count": null,
   "id": "cf988b6b-5a56-4291-9bdd-9f715581b531",
   "metadata": {},
   "outputs": [],
   "source": []
  }
 ],
 "metadata": {
  "kernelspec": {
   "display_name": "Python 3 (ipykernel)",
   "language": "python",
   "name": "python3"
  },
  "language_info": {
   "codemirror_mode": {
    "name": "ipython",
    "version": 3
   },
   "file_extension": ".py",
   "mimetype": "text/x-python",
   "name": "python",
   "nbconvert_exporter": "python",
   "pygments_lexer": "ipython3",
   "version": "3.11.5"
  }
 },
 "nbformat": 4,
 "nbformat_minor": 5
}
